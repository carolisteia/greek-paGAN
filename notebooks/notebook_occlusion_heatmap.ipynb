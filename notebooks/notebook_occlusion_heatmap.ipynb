{
  "nbformat": 4,
  "nbformat_minor": 0,
  "metadata": {
    "colab": {
      "provenance": []
    },
    "kernelspec": {
      "name": "python3",
      "display_name": "Python 3"
    },
    "language_info": {
      "name": "python"
    }
  },
  "cells": [
    {
      "cell_type": "code",
      "source": [
        "#importer les librairies\n",
        "import os\n",
        "from ultralytics import YOLO\n",
        "import numpy as np\n",
        "import matplotlib.pyplot as plt\n",
        "import cv2\n",
        "import numpy as np\n",
        "import seaborn as sns\n"
      ],
      "metadata": {
        "id": "IL_jnLRm33KL"
      },
      "execution_count": null,
      "outputs": []
    },
    {
      "cell_type": "code",
      "execution_count": null,
      "metadata": {
        "id": "sy1yBGQb3dN3"
      },
      "outputs": [],
      "source": [
        "#redimensionner les images test\n",
        "def resize_images(dossier, output, size):\n",
        "    # Parcourir tous les sous-dossiers et fichiers du dossier principal\n",
        "    for subdir, _, files in os.walk(dossier):\n",
        "        for file in files:\n",
        "            file_path = os.path.join(subdir, file)\n",
        "            # Lire l'image\n",
        "            img = cv2.imread(file_path)\n",
        "            # Redimensionner l'image\n",
        "            img_resized = cv2.resize(img, size, interpolation=cv2.INTER_AREA)\n",
        "\n",
        "            # Construire le chemin de output\n",
        "            relative_path = os.path.relpath(subdir, dossier) #copier l'arborescence\n",
        "            output_subdir = os.path.join(output, relative_path)\n",
        "            os.makedirs(output_subdir, exist_ok=True)\n",
        "            output_path = os.path.join(output_subdir, file)\n",
        "            cv2.imwrite(output_path, img_resized)"
      ]
    },
    {
      "cell_type": "code",
      "source": [
        "data = '/content/drive/MyDrive/python dm/data/train/test' #chemin vers votre dossier test\n",
        "output = '/content/drive/MyDrive/python dm/data/train/map_red' #créer un nouveau dossier pour enregistrer les images redimensionnées\n",
        "resize_images(data,output,size=(64, 64)) #vous pouvez essayer d'autres tailles"
      ],
      "metadata": {
        "id": "eNlaq-qX3rPh"
      },
      "execution_count": null,
      "outputs": []
    },
    {
      "cell_type": "code",
      "source": [
        "grec = YOLO('/content/drive/MyDrive/python dm/v8s_20epoch/classify/train/weights/best.pt')\n",
        "grec.names"
      ],
      "metadata": {
        "id": "eAFmAB6Q3jUD"
      },
      "execution_count": null,
      "outputs": []
    },
    {
      "cell_type": "code",
      "source": [
        "# Mapping des noms de sous-dossiers à leurs indices, c'est le numéro de classe des lettres obtenu à partir de grec.names\n",
        "class_alphabet = {'Α': 0, 'Ε': 1, 'I': 2, 'N': 3, 'O': 4, 'Β': 5, 'Γ': 6, 'Δ': 7, 'Ζ': 8, 'Η': 9,\n",
        "                     'Θ': 10, 'Κ': 11, 'Λ': 12, 'Μ': 13, 'Ξ': 14, 'Π': 15, 'Ρ': 16, 'Τ': 17, 'Υ': 18,\n",
        "                     'Φ': 19, 'Χ': 20, 'Ψ': 21, 'Ω': 22, 'Ϲ': 23}"
      ],
      "metadata": {
        "id": "BF0bOger-AGI"
      },
      "execution_count": null,
      "outputs": []
    },
    {
      "cell_type": "code",
      "source": [
        "def generate_occlusion(image, model, class_id, occlusion_size, step_size):\n",
        "    image_height, image_width, _ = image.shape\n",
        "    heatmap = np.zeros((image_height, image_width))\n",
        "\n",
        "\n",
        "    predict_model = YOLO(model)\n",
        "    results = predict_model.predict(image)\n",
        "\n",
        "    if class_id in results[0].probs.top5:\n",
        "        rank = results[0].probs.top5.index(class_id)\n",
        "        initial_confidence = results[0].probs.top5conf[rank]\n",
        "    else:\n",
        "        initial_confidence = 0\n",
        "\n",
        "    for y in range(0, image_width - occlusion_size[1] + 1, step_size):\n",
        "        for x in range(0, image_height - occlusion_size[0] + 1, step_size):\n",
        "\n",
        "            # Copier l'image pour ne pas modifier l'originale\n",
        "            occluded_image = image.copy()\n",
        "\n",
        "            # Appliquer l'occlusion\n",
        "            occluded_image[x:x + occlusion_size[0], y:y + occlusion_size[1]] = 0\n",
        "\n",
        "            # Prédire avec l'image occluse\n",
        "            results = predict_model.predict(occluded_image)\n",
        "\n",
        "            if class_id in results[0].probs.top5:\n",
        "                rank = results[0].probs.top5.index(class_id)\n",
        "                class_confidence = results[0].probs.top5conf[rank]\n",
        "            else:\n",
        "                class_confidence = 0\n",
        "\n",
        "            heatmap[x:x + occlusion_size[0], y:y + occlusion_size[1]] = initial_confidence - class_confidence\n",
        "\n",
        "    # Normalisation du heatmap\n",
        "    heatmap = (heatmap - np.min(heatmap)) / (np.max(heatmap) - np.min(heatmap))\n",
        "\n",
        "    return heatmap"
      ],
      "metadata": {
        "id": "h4rb7SXL-nPr"
      },
      "execution_count": null,
      "outputs": []
    },
    {
      "cell_type": "code",
      "source": [
        "def generate_heatmaps(folder_path, model_path, class_alphabet, occlusion_size, step_size):\n",
        "    heatmaps = []\n",
        "    # Parcourir tous les sous-dossiers dans le dossier principal\n",
        "    for subfolder_name in os.listdir(folder_path):\n",
        "        subfolder_path = os.path.join(folder_path, subfolder_name)\n",
        "\n",
        "            # Parcourir tous les fichiers du sous-dossier\n",
        "        for filename in os.listdir(subfolder_path):\n",
        "                # Chemin complet de l'image\n",
        "            image_path = os.path.join(subfolder_path, filename)\n",
        "\n",
        "                # Lire l'image\n",
        "            image = cv2.imread(image_path, cv2.IMREAD_COLOR)\n",
        "\n",
        "                # Récupérer l'indice du sous-dossier à partir du mapping\n",
        "            class_id = class_alphabet.get(subfolder_name)\n",
        "\n",
        "                # Générer le heatmap\n",
        "            heatmap = generate_occlusion(image, model_path, class_id, occlusion_size, step_size)\n",
        "            heatmaps.append(heatmap)\n",
        "\n",
        "    return heatmaps\n"
      ],
      "metadata": {
        "id": "PYRMDCkfAx6c"
      },
      "execution_count": null,
      "outputs": []
    },
    {
      "cell_type": "code",
      "source": [
        "folder_path = \"/content/drive/MyDrive/python dm/data/train/map_red\"\n",
        "model_path = '/content/drive/MyDrive/python dm/v8s_20epoch/classify/train/weights/best.pt'\n",
        "occlusion_size = (8,8) #ou 5,5 ou autres\n",
        "step_size = 8 #ou 5 ou autres\n",
        "#5*5 est plus précis que 8*8, mais plus lourd à charger pour toutes les images\n",
        "heatmaps = generate_heatmaps(folder_path, model_path, class_alphabet, occlusion_size, step_size)\n"
      ],
      "metadata": {
        "id": "YHHEBQD3-yd0"
      },
      "execution_count": null,
      "outputs": []
    },
    {
      "cell_type": "code",
      "source": [
        "def is_valid_heatmap(heatmap):\n",
        "    # Vérifier qu'il n'y a pas de NaN\n",
        "    if not np.all(np.isfinite(heatmap)):\n",
        "        return False\n",
        "    # Vérifier que la heatmap a les même dimensions\n",
        "    if heatmap.shape != (64, 64):\n",
        "        return False\n",
        "    return True\n",
        "\n",
        "def superposer(heatmaps):\n",
        "    # Filtrer les heatmaps non valides\n",
        "    valid_heatmaps = [heatmap for heatmap in heatmaps if is_valid_heatmap(heatmap)]\n",
        "\n",
        "    # Initialisation d'une heatmap vide pour la somme\n",
        "    combined_heatmap = np.zeros_like(valid_heatmaps[0], dtype=float)\n",
        "\n",
        "    # Normaliser et ajouter chaque heatmap valide à la somme\n",
        "    for heatmap in valid_heatmaps:\n",
        "        normalized_heatmap = (heatmap - np.min(heatmap)) / (np.max(heatmap) - np.min(heatmap))\n",
        "        combined_heatmap += normalized_heatmap\n",
        "\n",
        "    # Calculer la moyenne\n",
        "    combined_heatmap /= len(valid_heatmaps)\n",
        "\n",
        "    return combined_heatmap"
      ],
      "metadata": {
        "id": "ss8yiRK7CkrA"
      },
      "execution_count": null,
      "outputs": []
    },
    {
      "cell_type": "code",
      "source": [
        "superposer_heatmap = superposer(heatmaps)"
      ],
      "metadata": {
        "id": "8go4-eQ3L5qe"
      },
      "execution_count": null,
      "outputs": []
    },
    {
      "cell_type": "code",
      "source": [
        "plt.imshow(superposer_heatmap, cmap='YlGn')\n",
        "plt.colorbar()\n",
        "plt.show()\n",
        "#plt.savefig()"
      ],
      "metadata": {
        "id": "uJHid-soNOIo"
      },
      "execution_count": null,
      "outputs": []
    },
    {
      "cell_type": "code",
      "source": [
        "#superposer la carte sur une image\n",
        "def overlay_heatmap(image, heatmap, alpha=0.6):\n",
        "    heatmap_normalized = (heatmap - np.min(heatmap) / np.max(heatmap) - np.min(heatmap))\n",
        "    heatmap_colored = cv2.applyColorMap(np.uint8(255 * heatmap_normalized), cv2.COLORMAP_JET)\n",
        "\n",
        "    overlay = cv2.addWeighted(image, alpha, heatmap_colored, 1 - alpha, 0)\n",
        "    return overlay"
      ],
      "metadata": {
        "id": "mw_O1tsYNOPu"
      },
      "execution_count": null,
      "outputs": []
    },
    {
      "cell_type": "code",
      "source": [
        "overlay_image = overlay_heatmap(image, superposer_heatmap)\n",
        "plt.imshow(cv2.cvtColor(overlay_image, cv2.COLOR_BGR2RGB))\n",
        "plt.show()"
      ],
      "metadata": {
        "id": "T1yecqiJBLxL"
      },
      "execution_count": null,
      "outputs": []
    }
  ]
}